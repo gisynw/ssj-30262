{
 "cells": [
  {
   "cell_type": "markdown",
   "metadata": {},
   "source": [
    "<center>\n",
    "    <h2 style=\"color: #526cfe ; font-family: Arial, sans-serif; font-size: 32px; padding: 10px;\">\n",
    "        Week 9: Leafmap in Python \n",
    "    </h2>\n",
    "</center>"
   ]
  },
  {
   "cell_type": "markdown",
   "metadata": {
    "id": "WvVfPvQhXJ-Y"
   },
   "source": [
    "## Intorduction of Leafmap"
   ]
  },
  {
   "cell_type": "markdown",
   "metadata": {
    "id": "FoT3o_0lSig1"
   },
   "source": [
    "[Leafmap](https://leafmap.org/#usage) is a powerful Python package designed for creating, analyzing, and visualizing geospatial data in an interactive way using web maps. Built on top of libraries like [folium](https://python-visualization.github.io/folium/latest/) and [ipyleaflet](https://ipyleaflet.readthedocs.io/en/latest/), leafmap simplifies geospatial workflows by integrating with popular Python tools such as pandas and geopandas. It's particularly useful for those who want to visualize geospatial data interactively without needing extensive knowledge of JavaScript."
   ]
  },
  {
   "cell_type": "markdown",
   "metadata": {
    "id": "tJZ1BpzHWfGx"
   },
   "source": [
    "##  1. Key features of Leafmap\n",
    "\n",
    "*   Creating an interactive map with just one line of code\n",
    "*  Adding XYZ, WMS, and vector tile services\n",
    "* Displaying vector data\n",
    "* ...\n",
    "\n",
    "\n"
   ]
  },
  {
   "cell_type": "markdown",
   "metadata": {
    "id": "VSmeCedtibJ3"
   },
   "source": [
    "## 2. Install leafmap and relevant packages\n",
    "\n"
   ]
  },
  {
   "cell_type": "code",
   "execution_count": null,
   "metadata": {
    "id": "W1TTt00Thf0I"
   },
   "outputs": [],
   "source": [
    "!pip install leafmap rasterio\n",
    "!pip install git+https://github.com/banesullivan/localtileserver"
   ]
  },
  {
   "cell_type": "markdown",
   "metadata": {
    "id": "g7VCam4eWdHh"
   },
   "source": [
    "## 3. Load basemap"
   ]
  },
  {
   "cell_type": "code",
   "execution_count": null,
   "metadata": {
    "id": "7KxXmmyrhidZ"
   },
   "outputs": [],
   "source": [
    "import leafmap\n",
    "import rasterio"
   ]
  },
  {
   "cell_type": "code",
   "execution_count": null,
   "metadata": {
    "id": "9Wi5l4o6p_LQ"
   },
   "outputs": [],
   "source": [
    "# from google.colab import drive\n",
    "# drive.mount('/content/drive')"
   ]
  },
  {
   "cell_type": "markdown",
   "metadata": {
    "id": "W_dZE-VTdV0u"
   },
   "source": [
    "### 3.1 Creating interactive maps\n",
    "- Change basemap without codding\n"
   ]
  },
  {
   "cell_type": "markdown",
   "metadata": {
    "id": "doMfalYRggBo"
   },
   "source": [
    "#### Exercise 1: Customize map's center and zoom level\n",
    "- You can customize maps's center with a tuple or list of latitude and longitude, zoom is an integer"
   ]
  },
  {
   "cell_type": "code",
   "execution_count": null,
   "metadata": {
    "id": "gxcvo6Q8hroR"
   },
   "outputs": [],
   "source": [
    "in_map = leafmap.Map(center = [40, -95], zoom = 5)\n",
    "in_map"
   ]
  },
  {
   "cell_type": "markdown",
   "metadata": {
    "id": "pIZS7e8gkHNn"
   },
   "source": [
    "### Adding or Removing Controls\n",
    "By default, the map comes with controls like zoom, fullscreen, scale, attribution, and a toolbar. You can enable or disable these controls by setting parameters such as `zoom_control`, `fullscreen_control`, `scale_control`, `attribution_control`, and `toolbar_control` to either True or False."
   ]
  },
  {
   "cell_type": "code",
   "execution_count": null,
   "metadata": {
    "id": "2Obv8qUxHNqm"
   },
   "outputs": [],
   "source": [
    "map_control = leafmap.Map(center = [40, -95], zoom = 5, zoom_control = False)\n",
    "map_control"
   ]
  },
  {
   "cell_type": "markdown",
   "metadata": {
    "id": "0_GkV3wcmwLV"
   },
   "source": [
    "## Working with Layers"
   ]
  },
  {
   "cell_type": "code",
   "execution_count": null,
   "metadata": {
    "id": "cNae2pgmm7QO"
   },
   "outputs": [],
   "source": [
    "map_lyr = leafmap.Map(center = [40, -95], zoom = 5, zoom_control = False)\n",
    "map_lyr\n"
   ]
  },
  {
   "cell_type": "code",
   "execution_count": null,
   "metadata": {
    "id": "R4yXXbkAnSeV"
   },
   "outputs": [],
   "source": [
    "map_lyr.layers"
   ]
  },
  {
   "cell_type": "markdown",
   "metadata": {
    "id": "XMLd8VlYnsb9"
   },
   "source": [
    "#### Exercise 2: Remove layers\n"
   ]
  },
  {
   "cell_type": "code",
   "execution_count": null,
   "metadata": {
    "id": "jgqFJjVK1SUb"
   },
   "outputs": [],
   "source": [
    "map_lyr.remove(map_lyr.layers[-1])\n",
    "map_lyr"
   ]
  },
  {
   "cell_type": "markdown",
   "metadata": {
    "id": "jS2SakfY8KD6"
   },
   "source": [
    "## Visualizating web-based raster data"
   ]
  },
  {
   "cell_type": "markdown",
   "metadata": {
    "id": "_3ZAcrfm3LLq"
   },
   "source": [
    "### Adding a WMS Tile Layer and custimized legend to the map\n",
    "Web Map Service (WMS) layers can be added using the [add_wms_layer()](https://leafmap.org/leafmap/#leafmap.leafmap.Map.add_wms_layer) method. The following code adds a WMS layer from the [USGS](https://apps.nationalmap.gov/services/), centered on the U.S. with a zoom level of 4:\n",
    "\n",
    "- You can find the layers' information from Layer-name property in WMS"
   ]
  },
  {
   "cell_type": "code",
   "execution_count": null,
   "metadata": {
    "id": "_lgBPOfh3Ze7"
   },
   "outputs": [],
   "source": [
    "wms_lyr = leafmap.Map(center=[40, -100], zoom=4)\n",
    "url = \"https://www.mrlc.gov/geoserver/NLCD_Canopy/wms?SERVICE=WMS&REQUEST=GetCapabilities\"\n",
    "wms_lyr.add_wms_layer(\n",
    "    url=url,\n",
    "    layers=\"NLCD_Canopy\",\n",
    "    name=\"NLCD_Canopy\",\n",
    "    attribution=\"USGS\",\n",
    "    format=\"image/png\",\n",
    ")\n",
    "wms_lyr"
   ]
  },
  {
   "cell_type": "markdown",
   "metadata": {
    "id": "rKaqcIYXlCjt"
   },
   "source": [
    "#### Add a custom legend\n",
    "\n",
    "- [Define legend dictionary](https://leafmap.org/leafmap/#leafmap.leafmap.Map.add_layer_manager)\n",
    "Key is the label and value is the color\n",
    "\n",
    "Each color is represented by a six-digit code that follows this pattern: #RRGGBB, where:\n",
    "\n",
    "RR is the red component\n",
    "GG is the green component\n",
    "BB is the blue component"
   ]
  },
  {
   "cell_type": "code",
   "execution_count": null,
   "metadata": {
    "id": "K-Gv425qA06K"
   },
   "outputs": [],
   "source": [
    "legend_dict = {\n",
    "    \"Canopy\": \"006400\",\n",
    "}"
   ]
  },
  {
   "cell_type": "code",
   "execution_count": null,
   "metadata": {
    "id": "ciW49StSA2-7"
   },
   "outputs": [],
   "source": [
    "wms_lyr.add_legend(\n",
    "    title=\"NLCD_Canopy\", legend_dict=legend_dict, position = 'bottomleft')\n",
    "wms_lyr"
   ]
  },
  {
   "cell_type": "markdown",
   "metadata": {
    "id": "OLNsIFrTpx-J"
   },
   "source": [
    "### Adding a WMS Tile Layer and built-in legend to the map"
   ]
  },
  {
   "cell_type": "code",
   "execution_count": null,
   "metadata": {
    "id": "G_o44y_dp5oV"
   },
   "outputs": [],
   "source": [
    "legends = leafmap.builtin_legends\n",
    "for legend in legends:\n",
    "    print(legend)"
   ]
  },
  {
   "cell_type": "markdown",
   "metadata": {
    "id": "Icj9RfXQeG-q"
   },
   "source": [
    "NLCD:Nation Land Cover Database"
   ]
  },
  {
   "cell_type": "code",
   "execution_count": null,
   "metadata": {
    "id": "4qwq6CL2qUHj"
   },
   "outputs": [],
   "source": [
    "nlcd_cover = leafmap.Map()\n",
    "url = \"https://www.mrlc.gov/geoserver/mrlc_display/NLCD_2016_Land_Cover_L48/wms?\"\n",
    "nlcd_cover.add_wms_layer(\n",
    "    url,\n",
    "    layers=\"NLCD_2016_Land_Cover_L48\",\n",
    "    name=\"NLCD 2016 CONUS Land Cover\",\n",
    "    format=\"image/png\",\n",
    "    transparent=True,\n",
    ")\n",
    "nlcd_cover.add_legend(builtin_legend=\"NLCD\")\n",
    "\n",
    "nlcd_cover"
   ]
  },
  {
   "cell_type": "markdown",
   "metadata": {
    "id": "TxOqttX6r2Rt"
   },
   "source": [
    "### Adding a Cloud optimzied GeoTIFF (COG)\n",
    "\n",
    "[What is Cloud Optimized GeoTIFFs](https://www.usgs.gov/faqs/what-are-cloud-optimized-geotiffs-cogs)\n",
    "\n",
    "Publicly available Cloud Optimized GeoTIFFs:\n",
    "\n",
    "*   https://www.maxar.com/open-data\n",
    "*   https://earthexplorer.usgs.gov/\n",
    "\n",
    "\n",
    "\n"
   ]
  },
  {
   "cell_type": "markdown",
   "metadata": {
    "id": "zaj7Zr3j1aOB"
   },
   "source": [
    "### Exerciese: Get COG link and load in map"
   ]
  },
  {
   "cell_type": "code",
   "execution_count": null,
   "metadata": {
    "id": "hFmeeIiLr1kK"
   },
   "outputs": [],
   "source": [
    "cog_lyr = leafmap.Map()\n",
    "url = \"https://maxar-opendata.s3.us-west-2.amazonaws.com/events/HurricaneHelene-Oct24/ard/17/031313233023/2024-09-27/1030010105AA2600-visual.tif\"\n",
    "cog_lyr.add_cog_layer(url, name=\"Hurricane Helene\")\n",
    "cog_lyr"
   ]
  },
  {
   "cell_type": "markdown",
   "metadata": {
    "id": "VV4r27241vXI"
   },
   "source": [
    "### Adding second COGs\n",
    "You can add multiple COGS to the same map."
   ]
  },
  {
   "cell_type": "code",
   "execution_count": null,
   "metadata": {
    "id": "Q8qvdBIkruX6"
   },
   "outputs": [],
   "source": [
    "url2 = \"https://maxar-opendata.s3.us-west-2.amazonaws.com/events/HurricaneHelene-Oct24/ard/17/031313233023/2024-09-27/1030010105AA2600-visual.tif\"\n",
    "cog_lyr.add_cog_layer(url2, name=\"Statewide Agriculture\")\n",
    "cog_lyr"
   ]
  },
  {
   "cell_type": "markdown",
   "metadata": {
    "id": "nxEZBSK6lAwY"
   },
   "source": [
    "### Adding multiple COGs"
   ]
  },
  {
   "cell_type": "code",
   "execution_count": null,
   "metadata": {
    "id": "q2O3Vf5HiV8a"
   },
   "outputs": [],
   "source": [
    "urls = [\n",
    "    \"https://maxar-opendata.s3.us-west-2.amazonaws.com/events/HurricaneHelene-Oct24/ard/17/031313233023/2024-09-27/1030010105AA2600-visual.tif\",\n",
    "  \"https://maxar-opendata.s3.us-west-2.amazonaws.com/events/HurricaneHelene-Oct24/ard/17/031313233023/2024-03-29/105001003A08F100-visual.tif\",\n",
    "  \"https://maxar-opendata.s3.us-west-2.amazonaws.com/events/HurricaneHelene-Oct24/ard/17/031313233022/2024-09-27/1030010105AA2600-visual.tif\",\n",
    "  \"https://maxar-opendata.s3.us-west-2.amazonaws.com/events/HurricaneHelene-Oct24/ard/17/031313233022/2024-03-29/105001003A08F100-visual.tif\",\n",
    "  \"https://maxar-opendata.s3.us-west-2.amazonaws.com/events/HurricaneHelene-Oct24/ard/17/031313233021/2024-09-27/1030010105AA2600-visual.tif\",\n",
    "  \"https://maxar-opendata.s3.us-west-2.amazonaws.com/events/HurricaneHelene-Oct24/ard/17/031313233021/2024-03-29/105001003A08F100-visual.tif\"\n",
    "]\n",
    "\n",
    "cog_lyr = leafmap.Map()\n",
    "\n",
    "for i in urls:\n",
    "  cog_lyr.add_cog_layer(i)\n",
    "cog_lyr"
   ]
  },
  {
   "cell_type": "markdown",
   "metadata": {
    "id": "hR7HYzIt5HtA"
   },
   "source": [
    "## Visualizing Local Raster\n",
    "Download a sample GeoTIFF data"
   ]
  },
  {
   "cell_type": "code",
   "execution_count": null,
   "metadata": {
    "id": "4tlw3v0Zmep5"
   },
   "outputs": [],
   "source": [
    "landsat = 'dem.tif'\n",
    "landsat_url = \"https://open.gishub.org/data/raster/dem.tif\"\n",
    "leafmap.download_file(url=landsat_url, output=landsat, overwrite=True)"
   ]
  },
  {
   "cell_type": "code",
   "execution_count": null,
   "metadata": {
    "id": "wDEAYQuJ5NdQ"
   },
   "outputs": [],
   "source": [
    "raster_lyr = leafmap.Map()\n",
    "raster_lyr.add_raster(landsat, colormap=\"terrain\", layer_name=\"DEM\")\n",
    "raster_lyr"
   ]
  },
  {
   "cell_type": "markdown",
   "metadata": {
    "id": "57ZRqjho15NA"
   },
   "source": [
    "## Creating a Split Map for Comparison\n"
   ]
  },
  {
   "cell_type": "markdown",
   "metadata": {
    "id": "F8j6Uj3vtjxs"
   },
   "source": [
    "\n",
    "\n",
    "You need to specify left layer and right layer. The layer instance can be the built-in basemap, an HTTP URL to a Cloud Optimized GeoTIFF, or a folium TileLayer instance."
   ]
  },
  {
   "cell_type": "markdown",
   "metadata": {
    "id": "ApKYeMSJv5xz"
   },
   "source": [
    "### Using basemap"
   ]
  },
  {
   "cell_type": "code",
   "execution_count": null,
   "metadata": {
    "id": "PequMgbov4pV"
   },
   "outputs": [],
   "source": [
    "leafmap.basemaps.keys()"
   ]
  },
  {
   "cell_type": "code",
   "execution_count": null,
   "metadata": {
    "id": "TK04Lmf5vyR8"
   },
   "outputs": [],
   "source": [
    "split_landcover = leafmap.split_map(\n",
    "    left_layer=\"NLCD 2001 CONUS Land Cover\",\n",
    "    right_layer=\"NLCD 2021 CONUS Land Cover\",\n",
    "    left_label=\"2001\",\n",
    "    right_label=\"2021\",\n",
    "    center=[32.78, -96.80],\n",
    "    zoom=9\n",
    ")\n",
    "\n",
    "split_landcover.add_legend( builtin_legend=\"NLCD\")\n",
    "\n",
    "split_landcover"
   ]
  },
  {
   "cell_type": "markdown",
   "metadata": {
    "id": "yISuwi8sv7TT"
   },
   "source": [
    "### Using Cloud Optimized GeoTIFF (COG)"
   ]
  },
  {
   "cell_type": "code",
   "execution_count": null,
   "metadata": {
    "id": "YXK0E1jz2r2Y"
   },
   "outputs": [],
   "source": [
    "m = leafmap.Map(height=600, center=[39.4948, -108.5492], zoom=12)\n",
    "url = \"https://github.com/opengeos/data/releases/download/raster/Libya-2023-07-01.tif\"\n",
    "url2 = \"https://github.com/opengeos/data/releases/download/raster/Libya-2023-09-13.tif\"\n",
    "m.split_map(url, url2)\n",
    "m"
   ]
  },
  {
   "cell_type": "markdown",
   "metadata": {
    "id": "vr639a-2zXpq"
   },
   "source": [
    "### Using folium TileLayer\n",
    "[Data Source: MRLC](https://www.mrlc.gov/data-services-page)"
   ]
  },
  {
   "cell_type": "code",
   "execution_count": null,
   "metadata": {
    "id": "bueENg2s0H9K"
   },
   "outputs": [],
   "source": [
    "import folium\n",
    "import leafmap.foliumap as leafmap_folium"
   ]
  },
  {
   "cell_type": "code",
   "execution_count": null,
   "metadata": {
    "id": "ebI_vkPU3Cjp"
   },
   "outputs": [],
   "source": [
    "m = leafmap_folium.Map(center=[40, -100], zoom=4)\n",
    "\n",
    "url1 = \"https://www.mrlc.gov/geoserver/mrlc_display/NLCD_2021_Impervious_L48/wms?\"\n",
    "url2 = \"https://www.mrlc.gov/geoserver/mrlc_display/NLCD_2001_Impervious_L48/wms?\"\n",
    "\n",
    "left_layer = folium.WmsTileLayer(\n",
    "    url=url1,\n",
    "    layers=\"NLCD_2021_Impervious_L48\",\n",
    "    name=\"NLCD 2021\",\n",
    "    attr=\"MRLC\",\n",
    "    fmt=\"image/png\",\n",
    "    transparent=True,\n",
    ")\n",
    "right_layer = folium.WmsTileLayer(\n",
    "    url=url2,\n",
    "    layers=\"NLCD_2001_Impervious_L48\",\n",
    "    name=\"NLCD 2001\",\n",
    "    attr=\"MRLC\",\n",
    "    fmt=\"image/png\",\n",
    "    transparent=True,\n",
    ")\n",
    "\n",
    "left_layer\n",
    "m.split_map(left_layer, right_layer)\n",
    "m"
   ]
  },
  {
   "cell_type": "markdown",
   "metadata": {
    "id": "6AjVJ2HpBqe4"
   },
   "source": [
    "## 3D Visualization"
   ]
  },
  {
   "cell_type": "code",
   "execution_count": null,
   "metadata": {
    "id": "6--p460NC81o"
   },
   "outputs": [],
   "source": [
    "%pip install \"leafmap[maplibre]\""
   ]
  },
  {
   "cell_type": "markdown",
   "metadata": {
    "id": "BhLdUGybFuRR"
   },
   "source": [
    "Set up the API key from MapTiler in Google secret. Once you have the API key, you can access the MapLibre"
   ]
  },
  {
   "cell_type": "code",
   "execution_count": null,
   "metadata": {
    "id": "O-P6axeIFYAA"
   },
   "outputs": [],
   "source": [
    "import leafmap\n",
    "import os\n",
    "import leafmap.maplibregl as leafmap_libre"
   ]
  },
  {
   "cell_type": "markdown",
   "metadata": {
    "id": "C16nKVlYH44H"
   },
   "source": [
    "[Documentation about maplibregl module in leafmap](https://leafmap.org/maplibregl/)"
   ]
  },
  {
   "cell_type": "code",
   "execution_count": null,
   "metadata": {
    "id": "iEQCDFkrtUfv"
   },
   "outputs": [],
   "source": [
    "m = leafmap_libre.Map()\n",
    "m"
   ]
  },
  {
   "cell_type": "code",
   "execution_count": null,
   "metadata": {
    "id": "7-lClIL3tqTf"
   },
   "outputs": [],
   "source": [
    "m.layer_dict"
   ]
  },
  {
   "cell_type": "code",
   "execution_count": null,
   "metadata": {
    "id": "ncnC4G3YfEES"
   },
   "outputs": [],
   "source": [
    "style = {\n",
    "    \"version\": 8,\n",
    "    \"sources\": {\n",
    "        \"osm\": {\n",
    "            \"type\": \"raster\",\n",
    "            \"tiles\": [\"https://a.tile.openstreetmap.org/{z}/{x}/{y}.png\"],\n",
    "            \"tileSize\": 256,\n",
    "            \"attribution\": \"© OpenStreetMap Contributors\",\n",
    "            \"maxzoom\": 19,\n",
    "        },\n",
    "        \"terrainSource\": {\n",
    "            \"type\": \"raster-dem\",\n",
    "            \"url\": \"https://demotiles.maplibre.org/terrain-tiles/tiles.json\",\n",
    "            \"tileSize\": 256,\n",
    "        },\n",
    "        \"hillshadeSource\": {\n",
    "            \"type\": \"raster-dem\",\n",
    "            \"url\": \"https://demotiles.maplibre.org/terrain-tiles/tiles.json\",\n",
    "            \"tileSize\": 256,\n",
    "        },\n",
    "    },\n",
    "    \"layers\": [\n",
    "        {\"id\": \"osm\",\n",
    "         \"type\": \"raster\",\n",
    "         \"source\": \"osm\"},\n",
    "        {\n",
    "            \"id\": \"hills\",\n",
    "            \"type\": \"hillshade\",\n",
    "            \"source\": \"hillshadeSource\",\n",
    "            \"layout\": {\"visibility\": \"visible\"},\n",
    "            \"paint\": {\"hillshade-shadow-color\": \"#473B24\"},\n",
    "        },\n",
    "    ],\n",
    "    \"terrain\": {\"source\": \"terrainSource\", \"exaggeration\": 1},\n",
    "}\n",
    "\n",
    "m = leafmap_libre.Map(center=[11.39085, 47.27574], zoom=12, pitch=50, style=style)\n",
    "m.add_layer_control(bg_layers=True)\n",
    "m"
   ]
  },
  {
   "cell_type": "markdown",
   "metadata": {
    "id": "mILCVQnqy4cO"
   },
   "source": [
    "## 3D Building"
   ]
  },
  {
   "cell_type": "markdown",
   "metadata": {
    "id": "CIlWZzSMue0v"
   },
   "source": [
    "1. Set up account in [Maptile](https://www.maptiler.com/cloud/)\n",
    "2. Get API keys"
   ]
  },
  {
   "cell_type": "code",
   "execution_count": null,
   "metadata": {
    "id": "iq2qjtO0at8L"
   },
   "outputs": [],
   "source": [
    "MAPTILER_KEY = leafmap_libre.get_api_key(\"maplibre\")\n",
    "MAPTILER_KEY"
   ]
  },
  {
   "cell_type": "code",
   "execution_count": null,
   "metadata": {
    "id": "KIoYcn1Ky6Qu"
   },
   "outputs": [],
   "source": [
    "m = leafmap_libre.Map(\n",
    "    center=[-74.0066, 40.7135], zoom=12, pitch=45, bearing=-17, style=\"basic-v2\"\n",
    ")\n",
    "m.add_basemap(\"Esri.WorldImagery\", visible=False)\n",
    "source = {\n",
    "    \"url\": f\"https://api.maptiler.com/tiles/v3/tiles.json?key={MAPTILER_KEY}\",\n",
    "    \"type\": \"vector\",\n",
    "}\n",
    "\n",
    "layer = {\n",
    "    \"id\": \"3d-buildings\",\n",
    "    \"source\": \"openmaptiles\",\n",
    "    \"source-layer\": \"building\",\n",
    "    \"type\": \"fill-extrusion\",\n",
    "    \"min-zoom\": 15,\n",
    "    \"paint\": {\n",
    "        \"fill-extrusion-color\": [\n",
    "            \"interpolate\",\n",
    "            [\"linear\"],\n",
    "            [\"get\", \"render_height\"],\n",
    "            0,\n",
    "            \"lightgray\",\n",
    "            200,\n",
    "            \"royalblue\",\n",
    "            400,\n",
    "            \"lightblue\",\n",
    "        ],\n",
    "        \"fill-extrusion-height\": [\n",
    "            \"interpolate\",\n",
    "            [\"linear\"],\n",
    "            [\"zoom\"],\n",
    "            15,\n",
    "            0,\n",
    "            16,\n",
    "            [\"get\", \"render_height\"],\n",
    "        ],\n",
    "        \"fill-extrusion-base\": [\n",
    "            \"case\",\n",
    "            [\">=\", [\"get\", \"zoom\"], 16],\n",
    "            [\"get\", \"render_min_height\"],\n",
    "            0,\n",
    "        ],\n",
    "    },\n",
    "}\n",
    "m.add_source(\"openmaptiles\", source)\n",
    "m.add_layer(layer)\n",
    "m.add_layer_control()\n",
    "m"
   ]
  },
  {
   "cell_type": "markdown",
   "metadata": {
    "id": "m2E_O2tw6IIV"
   },
   "source": [
    "## To html"
   ]
  },
  {
   "cell_type": "markdown",
   "metadata": {
    "id": "q8LRXpaTuJqe"
   },
   "source": [
    "### 3D Building to Html with key"
   ]
  },
  {
   "cell_type": "code",
   "execution_count": null,
   "metadata": {
    "id": "ByDCkPc8uMae"
   },
   "outputs": [],
   "source": [
    "m.to_html(\"3d_building.html\", title=\"Awesome 3D Map\", width=\"100%\", height=\"100%\")\n",
    "m"
   ]
  },
  {
   "cell_type": "markdown",
   "metadata": {
    "id": "ANBLNIXtu6Kl"
   },
   "source": [
    "### 3D Terrain to Html with restricted key\n",
    "- Set up the allowed HTTP Origins for yoru key\n",
    "- You can use github domain as the allowed HTTP Origins"
   ]
  },
  {
   "cell_type": "code",
   "execution_count": null,
   "metadata": {
    "id": "E35dmi1l6JT9"
   },
   "outputs": [],
   "source": [
    "os.environ[\"MAPTILER_KEY\"] = \"E87yvJ1wxQtdYyp7lgrV\"\n",
    "os.environ[\"MAPTILER_KEY_PUBLIC\"] = \"OxxoV2vq1TEV7OQ8eSZD\""
   ]
  },
  {
   "cell_type": "code",
   "execution_count": null,
   "metadata": {
    "id": "OmsiiaSF-06c"
   },
   "outputs": [],
   "source": [
    "m = leafmap_libre.Map(\n",
    "    center=[-122.19861, 46.21168], zoom=13, pitch=60, bearing=150, style=\"3d-terrain\"\n",
    ")\n",
    "m.add_layer_control(bg_layers=True)\n",
    "m.to_html(\"terrain.html\", title=\"Awesome 3D Map\", width=\"100%\", height=\"100%\", replace_key=True)\n",
    "m"
   ]
  }
 ],
 "metadata": {
  "colab": {
   "provenance": [],
   "toc_visible": true
  },
  "kernelspec": {
   "display_name": "Python 3",
   "name": "python3"
  },
  "language_info": {
   "name": "python"
  }
 },
 "nbformat": 4,
 "nbformat_minor": 0
}
