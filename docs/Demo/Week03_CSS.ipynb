{
 "cells": [
  {
   "cell_type": "code",
   "execution_count": null,
   "metadata": {},
   "outputs": [],
   "source": [
    "## Cascading Style Sheets"
   ]
  },
  {
   "cell_type": "markdown",
   "metadata": {},
   "source": [
    "### Ways to use CSS\n",
    "- Inline: using the style attribute inside HTML elements\n",
    "- Internal: using the style element in the head sectio\n",
    "- External: using a link element to an external CSS file"
   ]
  },
  {
   "cell_type": "markdown",
   "metadata": {},
   "source": [
    "#### Inline CSS\n",
    "`<h1 style=\"color:blue;\">Introduction</h1>`\n",
    "\n",
    "#### Internal CSS\n",
    "- Internal CSS is used to define a style for a single html page.\n",
    "- An internal CSS is defined in the `<head>` section of an HTML page, within a `<style>` element\n",
    "\n",
    "Example: see the text color, font size and font for ALL  the `<h1>` elements\n",
    "\n",
    "`<style>h1 {color: black;font-size: 40px;font-family: 'Courier New', Courier, monospace;}</style>`\n"
   ]
  },
  {
   "cell_type": "markdown",
   "metadata": {},
   "source": [
    "### Border, padding, margin\n",
    "\n",
    "#### CSS Border\n",
    "Defines a border around an HTML element\n",
    "\n",
    "`p {border: 2px solid red;}`\n",
    "\n",
    "### CSS Padding\n",
    "`p {border: 2px solid red;padding: 30px;}`\n",
    "\n",
    "### CSS Margin\n",
    "`p {border: 2px solid red;padding: 30px;margin:100px}`\n"
   ]
  },
  {
   "cell_type": "markdown",
   "metadata": {},
   "source": [
    "### Background images\n",
    "#### Add image to HTML element\n",
    "\n"
   ]
  }
 ],
 "metadata": {
  "kernelspec": {
   "display_name": "base",
   "language": "python",
   "name": "python3"
  },
  "language_info": {
   "name": "python",
   "version": "3.12.4"
  }
 },
 "nbformat": 4,
 "nbformat_minor": 2
}
