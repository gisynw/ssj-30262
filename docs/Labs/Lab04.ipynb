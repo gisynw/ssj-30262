{
 "cells": [
  {
   "cell_type": "markdown",
   "metadata": {},
   "source": [
    "<a href=\"https://colab.research.google.com/github/gisynw/ssj-30262/blob/main/docs/Labs/Lab04.ipynb\" target=\"_blank\">\n",
    "  <img src=\"https://colab.research.google.com/assets/colab-badge.svg\" alt=\"Open in Colab\" style=\"height: 30px;\"/>\n",
    "</a>\n",
    "&nbsp &nbsp\n",
    "<a href=\"./Lab04.ipynb\" target=\"_blank\"> \n",
    "  <img src=\"https://img.icons8.com/?size=100&id=108635&format=png&color=000000\" alt=\"Download\" style=\"height: 40px;\"/>\n",
    " </a>"
   ]
  },
  {
   "cell_type": "markdown",
   "metadata": {},
   "source": [
    "<h3 style=\"text-align: center;\">Lab 04: JS</h3>\n",
    "\n",
    "- This lab accomplish two goals. \n",
    "  - Put your newly acquired CSS skills to use\n",
    "\n",
    "- Save the URL in .ipynb file, ensuring that the link is **clikable**. Then export the file as HTML or PDF file. Submit the HTML or PEF file to Canvas by **midnight (11:29 PM) on September 29**.\n",
    "\n",
    "- This lab is worth a total of **65 points** and contributes **6.5%** toward the final grade."
   ]
  },
  {
   "cell_type": "markdown",
   "metadata": {},
   "source": [
    "### 1. \n",
    "For Step 4 in Exercise 6, we add a close button to close the Pop-up windown. Please add dynamic effect on the buttion, once user click it, it will close the pop up window. \n",
    "hint 1: create a var "
   ]
  }
 ],
 "metadata": {
  "language_info": {
   "name": "python"
  }
 },
 "nbformat": 4,
 "nbformat_minor": 2
}
