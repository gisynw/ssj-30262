{
 "cells": [
  {
   "cell_type": "markdown",
   "metadata": {},
   "source": [
    "### What is JavaScript (JS)\n",
    "\n",
    "JS code is between `<script>` and `</script>` tags\n",
    "\n",
    "Scripts can be placed in the `<body>`, or in the `<head>` section of an HTML page\n",
    "\n"
   ]
  },
  {
   "cell_type": "markdown",
   "metadata": {},
   "source": [
    "### Back to Top Button\n",
    "\n",
    "\n"
   ]
  }
 ],
 "metadata": {
  "language_info": {
   "name": "python"
  }
 },
 "nbformat": 4,
 "nbformat_minor": 2
}
