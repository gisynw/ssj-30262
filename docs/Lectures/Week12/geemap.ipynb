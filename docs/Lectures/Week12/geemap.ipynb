{
 "cells": [
  {
   "cell_type": "markdown",
   "metadata": {},
   "source": [
    "<center>\n",
    "    <h2 style=\"color:  #526cfe; font-family: Arial, sans-serif; font-size: 32px; padding: 10px;\">\n",
    "        Week 12: geemap in Python\n",
    "    </h2>\n",
    "</center>"
   ]
  },
  {
   "cell_type": "markdown",
   "metadata": {
    "id": "0ng5ILMxeInp"
   },
   "source": [
    "<a href=\"https://colab.research.google.com/github/gisynw/ssj-30262/blob/main/docs/Lectures/Week12/geemap.ipynb\" target=\"_blank\">\n",
    "  <img src=\"https://colab.research.google.com/assets/colab-badge.svg\" alt=\"Open in Colab\" style=\"height: 30px;\"/>\n",
    "</a>\n",
    "&nbsp &nbsp\n",
    "<a href=\"./Week12/geemap.ipynb\" target=\"_blank\"> \n",
    "  <img src=\"https://img.icons8.com/?size=100&id=108635&format=png&color=000000\" alt=\"Download\" style=\"height: 40px;\"/>\n",
    " </a>"
   ]
  },
  {
   "cell_type": "markdown",
   "metadata": {
    "id": "Qjqafqd_JBjc"
   },
   "source": [
    "\n",
    "\n",
    "\n",
    "### What is Google Earth Engine (GEE)\n",
    "\n",
    "[Google Earth Engine (GEE)](https://colab.research.google.com/drive/1hs9Pj40Sgg2MkYD7AgNuT7iuuSw04Q0v#scrollTo=Qjqafqd_JBjc&line=7&uniqifier=1) is a cloud-based platform developed by Google for processing and analyzing geospatial data at a planetary scale. It enables users to analyze and visualize vast amounts of satellite imagery and geospatial datasets using a web-based JavaScript API or a Python API. GEE is widely used for environmental and climate research, urban planning, natural resource management, and disaster response, among other fields.\n",
    "\n",
    "### What is geemap\n",
    "\n",
    "Geemap is a Python package that extends the functionality of Google Earth Engine (GEE), making it easier for users to interact with GEE data and perform spatial analysis within a Jupyter Notebook or other Python environments\n",
    "\n",
    "#### Onlnie Learning Source\n",
    "\n",
    "[geemap online textbook](https://book.geemap.org/chapters/01_introduction.html)\n",
    "\n",
    "#### Installing geemap\n",
    "\n",
    "1. Installing with conda\n",
    "2. Installing with pip\n",
    "3. Installing from source\n",
    "\n",
    "#### Earth Engine authentication\n",
    "\n",
    "1. Create a [google engine account](https://colab.research.google.com/drive/1hs9Pj40Sgg2MkYD7AgNuT7iuuSw04Q0v#scrollTo=Qjqafqd_JBjc&line=24&uniqifier=1)\n",
    "\n",
    "2. Click 'Get Started to create the project'\n",
    "\n",
    "3. Go to google cloud console to check your project's information\n",
    "\n",
    "4. Create secret key with 'ID' of your project"
   ]
  },
  {
   "cell_type": "code",
   "execution_count": null,
   "metadata": {
    "id": "tq4xdgbGeCWG"
   },
   "outputs": [],
   "source": [
    "%pip install -U geemap"
   ]
  },
  {
   "cell_type": "code",
   "execution_count": null,
   "metadata": {
    "id": "QYGk8IlmfNKy"
   },
   "outputs": [],
   "source": [
    "import ee\n",
    "\n",
    "ee.Authenticate()"
   ]
  },
  {
   "cell_type": "markdown",
   "metadata": {
    "id": "b-XazvXxjpAT"
   },
   "source": [
    "### Initialize a project\n",
    "\n",
    "https://console.cloud.google.com/cloud-resource-manager?walkthrough_id=resource-manager--create-project#step_index=1\n",
    "\n",
    "Replace the key value for 'ee_project' key in Secrets"
   ]
  },
  {
   "cell_type": "code",
   "execution_count": null,
   "metadata": {
    "id": "5ouXT468h75R"
   },
   "outputs": [],
   "source": [
    "from google.colab import userdata\n",
    "ee.Initialize(project = userdata.get('ee_project'))"
   ]
  },
  {
   "cell_type": "markdown",
   "metadata": {
    "id": "lYhWlTRhzBcX"
   },
   "source": [
    "## Load basemap"
   ]
  },
  {
   "cell_type": "code",
   "execution_count": null,
   "metadata": {
    "id": "u0GPGCKgeHVK"
   },
   "outputs": [],
   "source": [
    "import geemap\n",
    "\n",
    "Map = geemap.Map(center = [42.2602, -71.7980], zoom = 11)\n",
    "Map"
   ]
  },
  {
   "cell_type": "markdown",
   "metadata": {
    "id": "Umhan0xjO0nz"
   },
   "source": [
    "## Metadata about Earth Engine Data"
   ]
  },
  {
   "cell_type": "markdown",
   "metadata": {
    "id": "LAJ7Ve4S4xtm"
   },
   "source": [
    "[gee dataset](https://courses.geemap.org/geemap_intro/05_gee_datasets/)\n",
    "\n",
    "[Earth Engine Data Catelog](https://developers.google.com/earth-engine/datasets)\n",
    "\n",
    "[ee.ImageCollection](https://developers.google.com/earth-engine/apidocs/ee-imagecollection)\n",
    "\n",
    "In Google Earth Engine, an ee.ImageCollection is a data structure used to handle a collection of multiple ee.Image objects. It’s often used for time-series analysis, multi-temporal composites, or batch processing of satellite imagery over a specified region\n",
    "\n",
    "[ee.Image constructor](https://developers.google.com/earth-engine/guides/image_overview#colab-python_1)"
   ]
  },
  {
   "cell_type": "code",
   "execution_count": null,
   "metadata": {
    "id": "7FQidQx4--WU"
   },
   "outputs": [],
   "source": [
    "landsat_9 = ee.ImageCollection('LANDSAT/LC09/C02/T1_L2')\n",
    "landsat_9.size().getInfo()"
   ]
  },
  {
   "cell_type": "markdown",
   "metadata": {
    "id": "OnggJ9hePgiL"
   },
   "source": [
    "[aggregate_array](https://developers.google.com/earth-engine/apidocs/ee-imagecollection-aggregate_array)"
   ]
  },
  {
   "cell_type": "code",
   "execution_count": null,
   "metadata": {
    "id": "EPb1rzwU-8Z0"
   },
   "outputs": [],
   "source": [
    "landsat_9.limit(10).aggregate_array('system:index').getInfo()"
   ]
  },
  {
   "cell_type": "code",
   "execution_count": null,
   "metadata": {
    "id": "E1eyBny3_Lt2"
   },
   "outputs": [],
   "source": [
    "single_image = ee.Image('LANDSAT/LC09/C02/T1_L2/LC09_001004_20220709').select(\n",
    "    ['SR_B1', 'SR_B2', 'SR_B3', 'SR_B4', 'SR_B5', 'SR_B7']\n",
    ")"
   ]
  },
  {
   "cell_type": "code",
   "execution_count": null,
   "metadata": {
    "id": "d28a5eHV_K0s"
   },
   "outputs": [],
   "source": [
    "geemap.image_props(single_image).getInfo()"
   ]
  },
  {
   "cell_type": "markdown",
   "metadata": {
    "id": "q1WxkJfpQ1c7"
   },
   "source": [
    "## Plot Satellite iamge\n",
    "\n",
    "[Image Visualization](https://developers.google.com/earth-engine/guides/image_visualization)\n",
    "\n",
    "Specify the bands combination\n",
    "\n",
    "[Image.geometry](https://developers.google.com/earth-engine/apidocs/ee-image-geometry)\n",
    "\n",
    "This list will contain 21 coordinate pairs, each defining a point on the boundary of the image. This data can help you understand the precise extent of the image’s coverage area in geographic space."
   ]
  },
  {
   "cell_type": "code",
   "execution_count": null,
   "metadata": {
    "id": "gs9aQCs8WHWh"
   },
   "outputs": [],
   "source": [
    "single_image.geometry()"
   ]
  },
  {
   "cell_type": "code",
   "execution_count": null,
   "metadata": {
    "id": "Lp-8i86RPxq7"
   },
   "outputs": [],
   "source": [
    "Map = geemap.Map(center = [78.04207655029894,-10.322619721660091], zoom = 6)\n",
    "\n",
    "single_image = ee.Image('LANDSAT/LC09/C02/T1_L2/LC09_001004_20220709').select(\n",
    "    ['SR_B1', 'SR_B2', 'SR_B3', 'SR_B4', 'SR_B5', 'SR_B7']\n",
    ")\n",
    "\n",
    "landsat_vis = {'bands': ['SR_B4', 'SR_B3', 'SR_B2'],'gamma': 1.4}\n",
    "\n",
    "Map.addLayer(single_image, landsat_vis, \"Landsat\")\n",
    "Map"
   ]
  },
  {
   "cell_type": "markdown",
   "metadata": {
    "id": "qSSeUA3QYf5B"
   },
   "source": [
    "## Using the plot tool\n",
    "\n",
    "[ee.Geometry.Point](https://developers.google.com/earth-engine/apidocs/ee-geometry-point)\n",
    "\n",
    "Define the center point of your study area in [x,y]"
   ]
  },
  {
   "cell_type": "code",
   "execution_count": null,
   "metadata": {
    "id": "zlCLSbzEY-a5"
   },
   "outputs": [],
   "source": [
    "location = ee.Geometry.Point([-71.80613, 42.27189])"
   ]
  },
  {
   "cell_type": "code",
   "execution_count": null,
   "metadata": {
    "id": "2m9pBztcT9cD"
   },
   "outputs": [],
   "source": [
    "landsat9_subset = landsat_9.filterBounds(location).filterMetadata('CLOUD_COVER', 'less_than', 30)\n",
    "landsat9_subset.size().getInfo()"
   ]
  },
  {
   "cell_type": "code",
   "execution_count": null,
   "metadata": {
    "id": "Or94fUTkcH2Z"
   },
   "outputs": [],
   "source": [
    "landsat9_subset.limit(10).aggregate_array('system:index').getInfo()"
   ]
  },
  {
   "cell_type": "code",
   "execution_count": null,
   "metadata": {
    "id": "vpgwa_kzcehC"
   },
   "outputs": [],
   "source": [
    "Map = geemap.Map(center = [42.27189, -71.80613], zoom = 6)\n",
    "\n",
    "single_image = ee.Image('LANDSAT/LC09/C02/T1_L2/LC09_012031_20220722').select(\n",
    "    ['SR_B1', 'SR_B2', 'SR_B3', 'SR_B4', 'SR_B5', 'SR_B7']\n",
    ")\n",
    "\n",
    "landsat_vis = {'bands': ['SR_B3', 'SR_B2', 'SR_B1'],'gamma': 1.4}\n",
    "\n",
    "Map.addLayer(single_image, landsat_vis, \"Landsat\")\n",
    "Map"
   ]
  },
  {
   "cell_type": "markdown",
   "metadata": {
    "id": "56icmNvrhGaJ"
   },
   "source": [
    "## Visualizing raster data"
   ]
  },
  {
   "cell_type": "markdown",
   "metadata": {
    "id": "25f3Sjoli7GR"
   },
   "source": [
    "### Single-band images\n",
    "\n",
    "Explore the pre-defined tool"
   ]
  },
  {
   "cell_type": "code",
   "execution_count": null,
   "metadata": {
    "id": "jCSZ1Dv9em55"
   },
   "outputs": [],
   "source": [
    "Map = geemap.Map(center=[12, 69], zoom=3)\n",
    "dem = ee.Image('USGS/SRTMGL1_003')\n",
    "vis_params = {\n",
    "    'min': 0,\n",
    "    'max': 4000,\n",
    "    'palette': ['006633', 'E5FFCC', '662A00', 'D8D8D8', 'F5F5F5'],\n",
    "}\n",
    "Map.addLayer(dem, vis_params, 'SRTM DEM')\n",
    "Map"
   ]
  },
  {
   "cell_type": "markdown",
   "metadata": {
    "id": "Ydn1ywPMjY1B"
   },
   "source": [
    "## Visualizing vector data\n",
    "\n",
    "Search TIGER keyword in [data catalog](https://developers.google.com/earth-engine/datasets/catalog)\n",
    "\n",
    "[Define style of vector data](https://developers.google.com/earth-engine/apidocs/ee-featurecollection-style)"
   ]
  },
  {
   "cell_type": "code",
   "execution_count": null,
   "metadata": {
    "id": "d8EE4lTpjapR"
   },
   "outputs": [],
   "source": [
    "Map = geemap.Map(center = [42.27189, -71.80613], zoom = 6)\n",
    "states = ee.FeatureCollection(\"TIGER/2016/Roads\")\n",
    "\n",
    "vis_params = {\n",
    "    'color': '0000FFFF',\n",
    "    'width': 1,\n",
    "    'lineType': 'solid',\n",
    "}\n",
    "\n",
    "Map.addLayer(states.style(**vis_params), {}, \"US Roads\")\n",
    "Map"
   ]
  },
  {
   "cell_type": "markdown",
   "metadata": {
    "id": "VByEOlfT3nMm"
   },
   "source": [
    "## Creating legends"
   ]
  },
  {
   "cell_type": "markdown",
   "metadata": {
    "id": "HCuE_pVL3sGu"
   },
   "source": [
    "### Custom legends - vector"
   ]
  },
  {
   "cell_type": "code",
   "execution_count": null,
   "metadata": {
    "id": "eo9pIdi_3owO"
   },
   "outputs": [],
   "source": [
    "labels = ['US Roads']\n",
    "\n",
    "# colors can be defined using either hex code or RGB (0-255, 0-255, 0-255)\n",
    "colors = ['#0000FF']\n",
    "# legend_colors = [(255, 0, 0), (127, 255, 0), (127, 18, 25), (36, 70, 180), (96, 68 123)]\n",
    "\n",
    "Map.add_legend(\n",
    "    labels=labels, colors=colors, position='bottomright'\n",
    ")\n",
    "Map"
   ]
  },
  {
   "cell_type": "markdown",
   "metadata": {
    "id": "jaDMDaXm5BHe"
   },
   "source": [
    "### Built-in legends"
   ]
  },
  {
   "cell_type": "code",
   "execution_count": null,
   "metadata": {
    "id": "xpzH2yvw3rDW"
   },
   "outputs": [],
   "source": [
    "from geemap.legends import builtin_legends\n",
    "\n",
    "for legend in builtin_legends:\n",
    "    print(legend)"
   ]
  },
  {
   "cell_type": "code",
   "execution_count": null,
   "metadata": {
    "id": "dxoKrWkj7QG-"
   },
   "outputs": [],
   "source": [
    "Map = geemap.Map(center=[40, -100], zoom=4)\n",
    "Map.add_basemap('HYBRID')\n",
    "\n",
    "nlcd = ee.Image('USGS/NLCD_RELEASES/2019_REL/NLCD/2019')\n",
    "landcover = nlcd.select('landcover')\n",
    "\n",
    "Map.addLayer(landcover, {}, 'NLCD Land Cover 2019')\n",
    "Map.add_legend(\n",
    "    title=\"NLCD Land Cover Classification\", builtin_legend='NLCD', height='465px'\n",
    ")\n",
    "Map"
   ]
  },
  {
   "cell_type": "markdown",
   "metadata": {
    "id": "ufK2DqtmEC1t"
   },
   "source": [
    "### Earth Engine class table\n",
    "\n",
    "[ESA WorldCover data](https://developers.google.com/earth-engine/datasets/catalog/ESA_WorldCover_v100#description)"
   ]
  },
  {
   "cell_type": "code",
   "execution_count": null,
   "metadata": {
    "id": "4PGEifLpEGnF"
   },
   "outputs": [],
   "source": [
    "Map = geemap.Map()\n",
    "\n",
    "dataset = ee.ImageCollection(\"ESA/WorldCover/v100\").first()\n",
    "Map.addLayer(dataset, {'bands': ['Map']}, \"ESA Landcover\")\n",
    "\n",
    "ee_class_table = \"\"\"\n",
    "Value\tColor\tDescription\n",
    "10\t006400\tTrees\n",
    "20\tffbb22\tShrubland\n",
    "30\tffff4c\tGrassland\n",
    "40\tf096ff\tCropland\n",
    "50\tfa0000\tBuilt-up\n",
    "60\tb4b4b4\tBarren / sparse vegetation\n",
    "70\tf0f0f0\tSnow and ice\n",
    "80\t0064c8\tOpen water\n",
    "90\t0096a0\tHerbaceous wetland\n",
    "95\t00cf75\tMangroves\n",
    "100\tfae6a0\tMoss and lichen\n",
    "\"\"\"\n",
    "\n",
    "legend_dict = geemap.legend_from_ee(ee_class_table)\n",
    "Map.add_legend(title=\"ESA Land Cover\", legend_dict=legend_dict)\n",
    "Map"
   ]
  },
  {
   "cell_type": "markdown",
   "metadata": {
    "id": "C6vnwEMyE941"
   },
   "source": [
    "## Creating color bars\n",
    "\n",
    "Adjust palette in tools"
   ]
  },
  {
   "cell_type": "code",
   "execution_count": null,
   "metadata": {
    "id": "903N70-NIzKd"
   },
   "outputs": [],
   "source": [
    "Map = geemap.Map()\n",
    "dem = ee.Image('USGS/SRTMGL1_003')\n",
    "vis_params = {\n",
    "    'min': 0,\n",
    "    'max': 4000,\n",
    "    'palette': ['006633', 'E5FFCC', '662A00', 'D8D8D8', 'F5F5F5']\n",
    "}\n",
    "\n",
    "Map.addLayer(dem, vis_params, 'SRTM DEM')\n",
    "\n",
    "Map.add_colorbar(vis_params, label=\"Elevation (m)\", layer_name=\"SRTM DEM\")\n",
    "\n",
    "Map"
   ]
  },
  {
   "cell_type": "markdown",
   "metadata": {
    "id": "6uRrXs7dJt6f"
   },
   "source": [
    "## Displaying labels\n",
    "\n",
    "[US Census States 2016](https://developers.google.com/earth-engine/datasets/catalog/TIGER_2016_States)"
   ]
  },
  {
   "cell_type": "code",
   "execution_count": null,
   "metadata": {
    "id": "7xdFuEwSIo5s"
   },
   "outputs": [],
   "source": [
    "Map = geemap.Map(center=[40, -100], zoom=4, add_google_map=False)\n",
    "states = ee.FeatureCollection(\"TIGER/2016/States\")\n",
    "style = {'color': 'black', 'fillColor': \"00000000\"}\n",
    "Map.addLayer(states.style(**style), {}, \"US States\")\n",
    "\n",
    "Map.add_labels(\n",
    "    data=states,\n",
    "    column=\"NAME\",\n",
    "    font_size=\"12pt\",\n",
    "    font_color=\"blue\",\n",
    "    font_family=\"arial\",\n",
    "    font_weight=\"bold\",\n",
    "    draggable=True,\n",
    ")\n",
    "Map"
   ]
  },
  {
   "cell_type": "markdown",
   "metadata": {
    "id": "ovyiabAYT3yr"
   },
   "source": [
    "### Timeseries inspector"
   ]
  },
  {
   "cell_type": "code",
   "execution_count": null,
   "metadata": {
    "id": "0RHAgScxT6Hs"
   },
   "outputs": [],
   "source": [
    "Map = geemap.Map(center=[40, -100], zoom=4)\n",
    "collection = ee.ImageCollection('USGS/NLCD_RELEASES/2019_REL/NLCD').select('landcover')\n",
    "vis_params = {'bands': ['landcover']}\n",
    "years = collection.aggregate_array('system:index').getInfo()\n",
    "years"
   ]
  },
  {
   "cell_type": "code",
   "execution_count": null,
   "metadata": {
    "id": "GEuxDPh3T8Uz"
   },
   "outputs": [],
   "source": [
    "Map.ts_inspector(\n",
    "    left_ts=collection,\n",
    "    right_ts=collection,\n",
    "    left_names=years,\n",
    "    right_names=years,\n",
    "    left_vis=vis_params,\n",
    "    right_vis=vis_params,\n",
    "    width='80px',\n",
    ")\n",
    "Map"
   ]
  },
  {
   "cell_type": "markdown",
   "metadata": {
    "id": "wnzM5bOmYs5L"
   },
   "source": [
    "#### Practice 1: Create a Time Series Slider\n",
    "\n",
    "[Data Source](https://developers.google.com/earth-engine/datasets/catalog/MODIS_006_MOD44B)"
   ]
  },
  {
   "cell_type": "code",
   "execution_count": null,
   "metadata": {
    "id": "Koi9wsjjVELj"
   },
   "outputs": [],
   "source": [
    "Map = geemap.Map(center=[40, -100], zoom=4)\n",
    "collection = ee.ImageCollection('MODIS/006/MOD44B').select('Percent_Tree_Cover')\n",
    "vis_params = {\n",
    "    'min': 0,\n",
    "    'max': 100,\n",
    "    'palette': ['bbe029', '0a9501', '074b03']\n",
    "}\n",
    "years = collection.aggregate_array('system:index').getInfo()\n",
    "years"
   ]
  },
  {
   "cell_type": "code",
   "execution_count": null,
   "metadata": {
    "id": "ykSyN2waX6FK"
   },
   "outputs": [],
   "source": [
    "Map.addLayer(collection, vis_params)\n",
    "Map.ts_inspector(\n",
    "    left_ts=collection,\n",
    "    right_ts=collection,\n",
    "    left_names=years,\n",
    "    right_names=years,\n",
    "    left_vis=vis_params,\n",
    "    right_vis=vis_params,\n",
    "    width='80px',\n",
    ")\n",
    "\n",
    "Map.add_colorbar(vis_params, label=\"Percent_Tree_Cover\", layer_name=\"Percent_Tree_Cover\")\n",
    "Map"
   ]
  }
 ],
 "metadata": {
  "colab": {
   "gpuType": "T4",
   "provenance": []
  },
  "kernelspec": {
   "display_name": "Python 3",
   "name": "python3"
  },
  "language_info": {
   "name": "python"
  }
 },
 "nbformat": 4,
 "nbformat_minor": 0
}
