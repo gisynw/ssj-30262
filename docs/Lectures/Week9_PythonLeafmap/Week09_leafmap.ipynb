{
 "cells": [
  {
   "cell_type": "markdown",
   "metadata": {},
   "source": [
    "<a href=\"https://colab.research.google.com/github/gisynw/ssj-30262/blob/main/docs/Lectures/Week9_PythonLeafmap/Week09_leafmap.ipynb\" target=\"_blank\">\n",
    "  <img src=\"https://colab.research.google.com/assets/colab-badge.svg\" alt=\"Open in Colab\" style=\"height: 30px;\"/>\n",
    "</a>\n",
    "&nbsp &nbsp\n",
    "<a href=\"./Week9_PythonLeafmap/Week09_leafmap.ipynb\" target=\"_blank\"> \n",
    "  <img src=\"https://img.icons8.com/?size=100&id=108635&format=png&color=000000\" alt=\"Download\" style=\"height: 40px;\"/>\n",
    " </a>"
   ]
  },
  {
   "cell_type": "code",
   "execution_count": null,
   "metadata": {},
   "outputs": [],
   "source": [
    "## Interactive Mapping in a Jupyter environment - leafmap"
   ]
  },
  {
   "cell_type": "markdown",
   "metadata": {},
   "source": [
    "### Installation\n",
    "Step 1: Creating a fresh conda environment\n",
    "Run 'Anaconda powershell' as administrator, create a fresh conda environment using the following command:  \n",
    "```\n",
    "conda create --name name_of_your_virtual_environment\n",
    "```\n",
    "Step 2: activate virtual environment\n",
    "```\n",
    "conda activate name_of_your_virtual_environment\n",
    "```\n",
    "Step 3: Install leafmap from conda-forge to the virtual environment\n",
    "```\n",
    "conda install leafmap -c conda-forge\n",
    "```"
   ]
  },
  {
   "cell_type": "markdown",
   "metadata": {},
   "source": [
    "### Online Source\n",
    "[Online official source](https://leafmap.org/installation/)"
   ]
  },
  {
   "cell_type": "markdown",
   "metadata": {},
   "source": [
    "### Introduction\n",
    "Leafmap has six plotting backends, including folium, ipyleaflet, plotly, pydeck, kepler.gl, and heremap."
   ]
  },
  {
   "cell_type": "markdown",
   "metadata": {},
   "source": [
    "### Load basemaps"
   ]
  },
  {
   "cell_type": "code",
   "execution_count": 21,
   "metadata": {},
   "outputs": [
    {
     "data": {
      "application/vnd.jupyter.widget-view+json": {
       "model_id": "5486df25ebf54017b3ef237480257de0",
       "version_major": 2,
       "version_minor": 0
      },
      "text/plain": [
       "Map(center=[40, -100], controls=(ZoomControl(options=['position', 'zoom_in_text', 'zoom_in_title', 'zoom_out_t…"
      ]
     },
     "execution_count": 21,
     "metadata": {},
     "output_type": "execute_result"
    }
   ],
   "source": [
    "import leafmap\n",
    "m = leafmap.Map(center=(40, -100), zoom=4)\n",
    "m"
   ]
  },
  {
   "cell_type": "code",
   "execution_count": 22,
   "metadata": {},
   "outputs": [
    {
     "ename": "Exception",
     "evalue": "'NoneType' object has no attribute 'comm_id'",
     "output_type": "error",
     "traceback": [
      "\u001b[1;31m---------------------------------------------------------------------------\u001b[0m",
      "\u001b[1;31mAttributeError\u001b[0m                            Traceback (most recent call last)",
      "File \u001b[1;32mg:\\Anaconda\\envs\\leaf_map\\Lib\\site-packages\\leafmap\\leafmap.py:2229\u001b[0m, in \u001b[0;36mMap.to_html\u001b[1;34m(self, outfile, title, width, height, add_layer_control, **kwargs)\u001b[0m\n\u001b[0;32m   2227\u001b[0m \u001b[38;5;28mself\u001b[39m\u001b[38;5;241m.\u001b[39mlayout\u001b[38;5;241m.\u001b[39mheight \u001b[38;5;241m=\u001b[39m height\n\u001b[1;32m-> 2229\u001b[0m \u001b[38;5;28;43mself\u001b[39;49m\u001b[38;5;241;43m.\u001b[39;49m\u001b[43msave\u001b[49m\u001b[43m(\u001b[49m\u001b[43moutfile\u001b[49m\u001b[43m,\u001b[49m\u001b[43m \u001b[49m\u001b[43mtitle\u001b[49m\u001b[38;5;241;43m=\u001b[39;49m\u001b[43mtitle\u001b[49m\u001b[43m,\u001b[49m\u001b[43m \u001b[49m\u001b[38;5;241;43m*\u001b[39;49m\u001b[38;5;241;43m*\u001b[39;49m\u001b[43mkwargs\u001b[49m\u001b[43m)\u001b[49m\n\u001b[0;32m   2231\u001b[0m \u001b[38;5;28mself\u001b[39m\u001b[38;5;241m.\u001b[39mlayout\u001b[38;5;241m.\u001b[39mwidth \u001b[38;5;241m=\u001b[39m before_width\n",
      "File \u001b[1;32mg:\\Anaconda\\envs\\leaf_map\\Lib\\site-packages\\ipyleaflet\\leaflet.py:3111\u001b[0m, in \u001b[0;36mMap.save\u001b[1;34m(self, outfile, **kwargs)\u001b[0m\n\u001b[0;32m   3102\u001b[0m \u001b[38;5;250m\u001b[39m\u001b[38;5;124;03m\"\"\"Save the Map to an .html file.\u001b[39;00m\n\u001b[0;32m   3103\u001b[0m \n\u001b[0;32m   3104\u001b[0m \u001b[38;5;124;03mParameters\u001b[39;00m\n\u001b[1;32m   (...)\u001b[0m\n\u001b[0;32m   3109\u001b[0m \u001b[38;5;124;03m    Extra parameters to pass to the ipywidgets.embed.embed_minimal_html function.\u001b[39;00m\n\u001b[0;32m   3110\u001b[0m \u001b[38;5;124;03m\"\"\"\u001b[39;00m\n\u001b[1;32m-> 3111\u001b[0m \u001b[43membed_minimal_html\u001b[49m\u001b[43m(\u001b[49m\u001b[43moutfile\u001b[49m\u001b[43m,\u001b[49m\u001b[43m \u001b[49m\u001b[43mviews\u001b[49m\u001b[38;5;241;43m=\u001b[39;49m\u001b[43m[\u001b[49m\u001b[38;5;28;43mself\u001b[39;49m\u001b[43m]\u001b[49m\u001b[43m,\u001b[49m\u001b[43m \u001b[49m\u001b[38;5;241;43m*\u001b[39;49m\u001b[38;5;241;43m*\u001b[39;49m\u001b[43mkwargs\u001b[49m\u001b[43m)\u001b[49m\n",
      "File \u001b[1;32mg:\\Anaconda\\envs\\leaf_map\\Lib\\site-packages\\ipywidgets\\embed.py:302\u001b[0m, in \u001b[0;36membed_minimal_html\u001b[1;34m(fp, views, title, template, **kwargs)\u001b[0m\n\u001b[0;32m    288\u001b[0m \u001b[38;5;250m\u001b[39m\u001b[38;5;124;03m\"\"\"Write a minimal HTML file with widget views embedded.\u001b[39;00m\n\u001b[0;32m    289\u001b[0m \n\u001b[0;32m    290\u001b[0m \u001b[38;5;124;03mParameters\u001b[39;00m\n\u001b[1;32m   (...)\u001b[0m\n\u001b[0;32m    300\u001b[0m \u001b[38;5;124;03m{embed_kwargs}\u001b[39;00m\n\u001b[0;32m    301\u001b[0m \u001b[38;5;124;03m\"\"\"\u001b[39;00m\n\u001b[1;32m--> 302\u001b[0m snippet \u001b[38;5;241m=\u001b[39m \u001b[43membed_snippet\u001b[49m\u001b[43m(\u001b[49m\u001b[43mviews\u001b[49m\u001b[43m,\u001b[49m\u001b[43m \u001b[49m\u001b[38;5;241;43m*\u001b[39;49m\u001b[38;5;241;43m*\u001b[39;49m\u001b[43mkwargs\u001b[49m\u001b[43m)\u001b[49m\n\u001b[0;32m    304\u001b[0m values \u001b[38;5;241m=\u001b[39m {\n\u001b[0;32m    305\u001b[0m     \u001b[38;5;124m'\u001b[39m\u001b[38;5;124mtitle\u001b[39m\u001b[38;5;124m'\u001b[39m: title,\n\u001b[0;32m    306\u001b[0m     \u001b[38;5;124m'\u001b[39m\u001b[38;5;124msnippet\u001b[39m\u001b[38;5;124m'\u001b[39m: snippet,\n\u001b[0;32m    307\u001b[0m }\n",
      "File \u001b[1;32mg:\\Anaconda\\envs\\leaf_map\\Lib\\site-packages\\ipywidgets\\embed.py:264\u001b[0m, in \u001b[0;36membed_snippet\u001b[1;34m(views, drop_defaults, state, indent, embed_url, requirejs, cors)\u001b[0m\n\u001b[0;32m    252\u001b[0m \u001b[38;5;250m\u001b[39m\u001b[38;5;124;03m\"\"\"Return a snippet that can be embedded in an HTML file.\u001b[39;00m\n\u001b[0;32m    253\u001b[0m \n\u001b[0;32m    254\u001b[0m \u001b[38;5;124;03mParameters\u001b[39;00m\n\u001b[1;32m   (...)\u001b[0m\n\u001b[0;32m    261\u001b[0m \u001b[38;5;124;03mA unicode string with an HTML snippet containing several `<script>` tags.\u001b[39;00m\n\u001b[0;32m    262\u001b[0m \u001b[38;5;124;03m\"\"\"\u001b[39;00m\n\u001b[1;32m--> 264\u001b[0m data \u001b[38;5;241m=\u001b[39m \u001b[43membed_data\u001b[49m\u001b[43m(\u001b[49m\u001b[43mviews\u001b[49m\u001b[43m,\u001b[49m\u001b[43m \u001b[49m\u001b[43mdrop_defaults\u001b[49m\u001b[38;5;241;43m=\u001b[39;49m\u001b[43mdrop_defaults\u001b[49m\u001b[43m,\u001b[49m\u001b[43m \u001b[49m\u001b[43mstate\u001b[49m\u001b[38;5;241;43m=\u001b[39;49m\u001b[43mstate\u001b[49m\u001b[43m)\u001b[49m\n\u001b[0;32m    266\u001b[0m widget_views \u001b[38;5;241m=\u001b[39m \u001b[38;5;124m'\u001b[39m\u001b[38;5;130;01m\\n\u001b[39;00m\u001b[38;5;124m'\u001b[39m\u001b[38;5;241m.\u001b[39mjoin(\n\u001b[0;32m    267\u001b[0m     widget_view_template\u001b[38;5;241m.\u001b[39mformat(view_spec\u001b[38;5;241m=\u001b[39mescape_script(json\u001b[38;5;241m.\u001b[39mdumps(view_spec)))\n\u001b[0;32m    268\u001b[0m     \u001b[38;5;28;01mfor\u001b[39;00m view_spec \u001b[38;5;129;01min\u001b[39;00m data[\u001b[38;5;124m'\u001b[39m\u001b[38;5;124mview_specs\u001b[39m\u001b[38;5;124m'\u001b[39m]\n\u001b[0;32m    269\u001b[0m )\n",
      "File \u001b[1;32mg:\\Anaconda\\envs\\leaf_map\\Lib\\site-packages\\ipywidgets\\embed.py:219\u001b[0m, in \u001b[0;36membed_data\u001b[1;34m(views, drop_defaults, state)\u001b[0m\n\u001b[0;32m    217\u001b[0m \u001b[38;5;28;01mif\u001b[39;00m state \u001b[38;5;129;01mis\u001b[39;00m \u001b[38;5;28;01mNone\u001b[39;00m:\n\u001b[0;32m    218\u001b[0m     \u001b[38;5;66;03m# Get state of all known widgets\u001b[39;00m\n\u001b[1;32m--> 219\u001b[0m     state \u001b[38;5;241m=\u001b[39m \u001b[43mWidget\u001b[49m\u001b[38;5;241;43m.\u001b[39;49m\u001b[43mget_manager_state\u001b[49m\u001b[43m(\u001b[49m\u001b[43mdrop_defaults\u001b[49m\u001b[38;5;241;43m=\u001b[39;49m\u001b[43mdrop_defaults\u001b[49m\u001b[43m,\u001b[49m\u001b[43m \u001b[49m\u001b[43mwidgets\u001b[49m\u001b[38;5;241;43m=\u001b[39;49m\u001b[38;5;28;43;01mNone\u001b[39;49;00m\u001b[43m)\u001b[49m[\u001b[38;5;124m'\u001b[39m\u001b[38;5;124mstate\u001b[39m\u001b[38;5;124m'\u001b[39m]\n\u001b[0;32m    221\u001b[0m \u001b[38;5;66;03m# Rely on ipywidget to get the default values\u001b[39;00m\n",
      "File \u001b[1;32mg:\\Anaconda\\envs\\leaf_map\\Lib\\site-packages\\ipywidgets\\widgets\\widget.py:445\u001b[0m, in \u001b[0;36mWidget.get_manager_state\u001b[1;34m(drop_defaults, widgets)\u001b[0m\n\u001b[0;32m    444\u001b[0m \u001b[38;5;28;01mfor\u001b[39;00m widget \u001b[38;5;129;01min\u001b[39;00m widgets:\n\u001b[1;32m--> 445\u001b[0m     state[widget\u001b[38;5;241m.\u001b[39mmodel_id] \u001b[38;5;241m=\u001b[39m \u001b[43mwidget\u001b[49m\u001b[38;5;241;43m.\u001b[39;49m\u001b[43m_get_embed_state\u001b[49m\u001b[43m(\u001b[49m\u001b[43mdrop_defaults\u001b[49m\u001b[38;5;241;43m=\u001b[39;49m\u001b[43mdrop_defaults\u001b[49m\u001b[43m)\u001b[49m\n\u001b[0;32m    446\u001b[0m \u001b[38;5;28;01mreturn\u001b[39;00m {\u001b[38;5;124m'\u001b[39m\u001b[38;5;124mversion_major\u001b[39m\u001b[38;5;124m'\u001b[39m: \u001b[38;5;241m2\u001b[39m, \u001b[38;5;124m'\u001b[39m\u001b[38;5;124mversion_minor\u001b[39m\u001b[38;5;124m'\u001b[39m: \u001b[38;5;241m0\u001b[39m, \u001b[38;5;124m'\u001b[39m\u001b[38;5;124mstate\u001b[39m\u001b[38;5;124m'\u001b[39m: state}\n",
      "File \u001b[1;32mg:\\Anaconda\\envs\\leaf_map\\Lib\\site-packages\\ipywidgets\\widgets\\widget.py:454\u001b[0m, in \u001b[0;36mWidget._get_embed_state\u001b[1;34m(self, drop_defaults)\u001b[0m\n\u001b[0;32m    449\u001b[0m state \u001b[38;5;241m=\u001b[39m {\n\u001b[0;32m    450\u001b[0m     \u001b[38;5;124m'\u001b[39m\u001b[38;5;124mmodel_name\u001b[39m\u001b[38;5;124m'\u001b[39m: \u001b[38;5;28mself\u001b[39m\u001b[38;5;241m.\u001b[39m_model_name,\n\u001b[0;32m    451\u001b[0m     \u001b[38;5;124m'\u001b[39m\u001b[38;5;124mmodel_module\u001b[39m\u001b[38;5;124m'\u001b[39m: \u001b[38;5;28mself\u001b[39m\u001b[38;5;241m.\u001b[39m_model_module,\n\u001b[0;32m    452\u001b[0m     \u001b[38;5;124m'\u001b[39m\u001b[38;5;124mmodel_module_version\u001b[39m\u001b[38;5;124m'\u001b[39m: \u001b[38;5;28mself\u001b[39m\u001b[38;5;241m.\u001b[39m_model_module_version\n\u001b[0;32m    453\u001b[0m }\n\u001b[1;32m--> 454\u001b[0m model_state, buffer_paths, buffers \u001b[38;5;241m=\u001b[39m _remove_buffers(\u001b[38;5;28;43mself\u001b[39;49m\u001b[38;5;241;43m.\u001b[39;49m\u001b[43mget_state\u001b[49m\u001b[43m(\u001b[49m\u001b[43mdrop_defaults\u001b[49m\u001b[38;5;241;43m=\u001b[39;49m\u001b[43mdrop_defaults\u001b[49m\u001b[43m)\u001b[49m)\n\u001b[0;32m    455\u001b[0m state[\u001b[38;5;124m'\u001b[39m\u001b[38;5;124mstate\u001b[39m\u001b[38;5;124m'\u001b[39m] \u001b[38;5;241m=\u001b[39m model_state\n",
      "File \u001b[1;32mg:\\Anaconda\\envs\\leaf_map\\Lib\\site-packages\\ipywidgets\\widgets\\widget.py:615\u001b[0m, in \u001b[0;36mWidget.get_state\u001b[1;34m(self, key, drop_defaults)\u001b[0m\n\u001b[0;32m    614\u001b[0m to_json \u001b[38;5;241m=\u001b[39m \u001b[38;5;28mself\u001b[39m\u001b[38;5;241m.\u001b[39mtrait_metadata(k, \u001b[38;5;124m'\u001b[39m\u001b[38;5;124mto_json\u001b[39m\u001b[38;5;124m'\u001b[39m, \u001b[38;5;28mself\u001b[39m\u001b[38;5;241m.\u001b[39m_trait_to_json)\n\u001b[1;32m--> 615\u001b[0m value \u001b[38;5;241m=\u001b[39m \u001b[43mto_json\u001b[49m\u001b[43m(\u001b[49m\u001b[38;5;28;43mgetattr\u001b[39;49m\u001b[43m(\u001b[49m\u001b[38;5;28;43mself\u001b[39;49m\u001b[43m,\u001b[49m\u001b[43m \u001b[49m\u001b[43mk\u001b[49m\u001b[43m)\u001b[49m\u001b[43m,\u001b[49m\u001b[43m \u001b[49m\u001b[38;5;28;43mself\u001b[39;49m\u001b[43m)\u001b[49m\n\u001b[0;32m    616\u001b[0m \u001b[38;5;28;01mif\u001b[39;00m \u001b[38;5;129;01mnot\u001b[39;00m drop_defaults \u001b[38;5;129;01mor\u001b[39;00m \u001b[38;5;129;01mnot\u001b[39;00m \u001b[38;5;28mself\u001b[39m\u001b[38;5;241m.\u001b[39m_compare(value, traits[k]\u001b[38;5;241m.\u001b[39mdefault_value):\n",
      "File \u001b[1;32mg:\\Anaconda\\envs\\leaf_map\\Lib\\site-packages\\ipywidgets\\widgets\\widget.py:54\u001b[0m, in \u001b[0;36m_widget_to_json\u001b[1;34m(x, obj)\u001b[0m\n\u001b[0;32m     53\u001b[0m \u001b[38;5;28;01melif\u001b[39;00m \u001b[38;5;28misinstance\u001b[39m(x, Widget):\n\u001b[1;32m---> 54\u001b[0m     \u001b[38;5;28;01mreturn\u001b[39;00m \u001b[38;5;124m\"\u001b[39m\u001b[38;5;124mIPY_MODEL_\u001b[39m\u001b[38;5;124m\"\u001b[39m \u001b[38;5;241m+\u001b[39m \u001b[43mx\u001b[49m\u001b[38;5;241;43m.\u001b[39;49m\u001b[43mmodel_id\u001b[49m\n\u001b[0;32m     55\u001b[0m \u001b[38;5;28;01melse\u001b[39;00m:\n",
      "File \u001b[1;32mg:\\Anaconda\\envs\\leaf_map\\Lib\\site-packages\\ipywidgets\\widgets\\widget.py:552\u001b[0m, in \u001b[0;36mWidget.model_id\u001b[1;34m(self)\u001b[0m\n\u001b[0;32m    549\u001b[0m \u001b[38;5;250m\u001b[39m\u001b[38;5;124;03m\"\"\"Gets the model id of this widget.\u001b[39;00m\n\u001b[0;32m    550\u001b[0m \n\u001b[0;32m    551\u001b[0m \u001b[38;5;124;03mIf a Comm doesn't exist yet, a Comm will be created automagically.\"\"\"\u001b[39;00m\n\u001b[1;32m--> 552\u001b[0m \u001b[38;5;28;01mreturn\u001b[39;00m \u001b[38;5;28;43mself\u001b[39;49m\u001b[38;5;241;43m.\u001b[39;49m\u001b[43mcomm\u001b[49m\u001b[38;5;241;43m.\u001b[39;49m\u001b[43mcomm_id\u001b[49m\n",
      "\u001b[1;31mAttributeError\u001b[0m: 'NoneType' object has no attribute 'comm_id'",
      "\nDuring handling of the above exception, another exception occurred:\n",
      "\u001b[1;31mException\u001b[0m                                 Traceback (most recent call last)",
      "Cell \u001b[1;32mIn[22], line 1\u001b[0m\n\u001b[1;32m----> 1\u001b[0m \u001b[43mm\u001b[49m\u001b[38;5;241;43m.\u001b[39;49m\u001b[43mto_html\u001b[49m\u001b[43m(\u001b[49m\u001b[38;5;124;43mr\u001b[39;49m\u001b[38;5;124;43m'\u001b[39;49m\u001b[38;5;124;43mF:\u001b[39;49m\u001b[38;5;124;43m\\\u001b[39;49m\u001b[38;5;124;43mClark_Universiy\u001b[39;49m\u001b[38;5;124;43m\\\u001b[39;49m\u001b[38;5;124;43mClark_Teaching\u001b[39;49m\u001b[38;5;124;43m\\\u001b[39;49m\u001b[38;5;124;43msample.html\u001b[39;49m\u001b[38;5;124;43m'\u001b[39;49m\u001b[43m)\u001b[49m\n",
      "File \u001b[1;32mg:\\Anaconda\\envs\\leaf_map\\Lib\\site-packages\\leafmap\\leafmap.py:2243\u001b[0m, in \u001b[0;36mMap.to_html\u001b[1;34m(self, outfile, title, width, height, add_layer_control, **kwargs)\u001b[0m\n\u001b[0;32m   2240\u001b[0m         \u001b[38;5;28;01mreturn\u001b[39;00m out_html\n\u001b[0;32m   2242\u001b[0m \u001b[38;5;28;01mexcept\u001b[39;00m \u001b[38;5;167;01mException\u001b[39;00m \u001b[38;5;28;01mas\u001b[39;00m e:\n\u001b[1;32m-> 2243\u001b[0m     \u001b[38;5;28;01mraise\u001b[39;00m \u001b[38;5;167;01mException\u001b[39;00m(e)\n",
      "\u001b[1;31mException\u001b[0m: 'NoneType' object has no attribute 'comm_id'"
     ]
    }
   ],
   "source": [
    "m.to_html(r'F:\\Clark_Universiy\\Clark_Teaching\\sample.html')"
   ]
  },
  {
   "cell_type": "code",
   "execution_count": 23,
   "metadata": {},
   "outputs": [],
   "source": [
    "import leafmap.foliumap as leafmap"
   ]
  },
  {
   "cell_type": "code",
   "execution_count": 24,
   "metadata": {},
   "outputs": [
    {
     "data": {
      "text/html": [
       "<iframe srcdoc=\"&lt;!DOCTYPE html&gt;\n",
       "&lt;html&gt;\n",
       "&lt;head&gt;\n",
       "    \n",
       "    &lt;meta http-equiv=&quot;content-type&quot; content=&quot;text/html; charset=UTF-8&quot; /&gt;\n",
       "    \n",
       "        &lt;script&gt;\n",
       "            L_NO_TOUCH = false;\n",
       "            L_DISABLE_3D = false;\n",
       "        &lt;/script&gt;\n",
       "    \n",
       "    &lt;style&gt;html, body {width: 100%;height: 100%;margin: 0;padding: 0;}&lt;/style&gt;\n",
       "    &lt;style&gt;#map {position:absolute;top:0;bottom:0;right:0;left:0;}&lt;/style&gt;\n",
       "    &lt;script src=&quot;https://cdn.jsdelivr.net/npm/leaflet@1.9.3/dist/leaflet.js&quot;&gt;&lt;/script&gt;\n",
       "    &lt;script src=&quot;https://code.jquery.com/jquery-3.7.1.min.js&quot;&gt;&lt;/script&gt;\n",
       "    &lt;script src=&quot;https://cdn.jsdelivr.net/npm/bootstrap@5.2.2/dist/js/bootstrap.bundle.min.js&quot;&gt;&lt;/script&gt;\n",
       "    &lt;script src=&quot;https://cdnjs.cloudflare.com/ajax/libs/Leaflet.awesome-markers/2.0.2/leaflet.awesome-markers.js&quot;&gt;&lt;/script&gt;\n",
       "    &lt;link rel=&quot;stylesheet&quot; href=&quot;https://cdn.jsdelivr.net/npm/leaflet@1.9.3/dist/leaflet.css&quot;/&gt;\n",
       "    &lt;link rel=&quot;stylesheet&quot; href=&quot;https://cdn.jsdelivr.net/npm/bootstrap@5.2.2/dist/css/bootstrap.min.css&quot;/&gt;\n",
       "    &lt;link rel=&quot;stylesheet&quot; href=&quot;https://netdna.bootstrapcdn.com/bootstrap/3.0.0/css/bootstrap-glyphicons.css&quot;/&gt;\n",
       "    &lt;link rel=&quot;stylesheet&quot; href=&quot;https://cdn.jsdelivr.net/npm/@fortawesome/fontawesome-free@6.2.0/css/all.min.css&quot;/&gt;\n",
       "    &lt;link rel=&quot;stylesheet&quot; href=&quot;https://cdnjs.cloudflare.com/ajax/libs/Leaflet.awesome-markers/2.0.2/leaflet.awesome-markers.css&quot;/&gt;\n",
       "    &lt;link rel=&quot;stylesheet&quot; href=&quot;https://cdn.jsdelivr.net/gh/python-visualization/folium/folium/templates/leaflet.awesome.rotate.min.css&quot;/&gt;\n",
       "    \n",
       "            &lt;meta name=&quot;viewport&quot; content=&quot;width=device-width,\n",
       "                initial-scale=1.0, maximum-scale=1.0, user-scalable=no&quot; /&gt;\n",
       "            &lt;style&gt;\n",
       "                #map_f115a7d9be863fa77cc2bd19295c0333 {\n",
       "                    position: relative;\n",
       "                    width: 100.0%;\n",
       "                    height: 100.0%;\n",
       "                    left: 0.0%;\n",
       "                    top: 0.0%;\n",
       "                }\n",
       "                .leaflet-container { font-size: 1rem; }\n",
       "            &lt;/style&gt;\n",
       "        \n",
       "    &lt;script src=&quot;https://cdn.jsdelivr.net/npm/leaflet.fullscreen@3.0.0/Control.FullScreen.min.js&quot;&gt;&lt;/script&gt;\n",
       "    &lt;link rel=&quot;stylesheet&quot; href=&quot;https://cdn.jsdelivr.net/npm/leaflet.fullscreen@3.0.0/Control.FullScreen.css&quot;/&gt;\n",
       "    &lt;script src=&quot;https://cdnjs.cloudflare.com/ajax/libs/leaflet.draw/1.0.2/leaflet.draw.js&quot;&gt;&lt;/script&gt;\n",
       "    &lt;link rel=&quot;stylesheet&quot; href=&quot;https://cdnjs.cloudflare.com/ajax/libs/leaflet.draw/1.0.2/leaflet.draw.css&quot;/&gt;\n",
       "    &lt;script src=&quot;https://cdn.jsdelivr.net/gh/ljagis/leaflet-measure@2.1.7/dist/leaflet-measure.min.js&quot;&gt;&lt;/script&gt;\n",
       "    &lt;link rel=&quot;stylesheet&quot; href=&quot;https://cdn.jsdelivr.net/gh/ljagis/leaflet-measure@2.1.7/dist/leaflet-measure.min.css&quot;/&gt;\n",
       "    &lt;script src=&quot;https://unpkg.com/leaflet-control-geocoder/dist/Control.Geocoder.js&quot;&gt;&lt;/script&gt;\n",
       "    &lt;link rel=&quot;stylesheet&quot; href=&quot;https://unpkg.com/leaflet-control-geocoder/dist/Control.Geocoder.css&quot;/&gt;\n",
       "&lt;/head&gt;\n",
       "&lt;body&gt;\n",
       "    \n",
       "    \n",
       "            &lt;div class=&quot;folium-map&quot; id=&quot;map_f115a7d9be863fa77cc2bd19295c0333&quot; &gt;&lt;/div&gt;\n",
       "        \n",
       "&lt;/body&gt;\n",
       "&lt;script&gt;\n",
       "    \n",
       "    \n",
       "            var map_f115a7d9be863fa77cc2bd19295c0333 = L.map(\n",
       "                &quot;map_f115a7d9be863fa77cc2bd19295c0333&quot;,\n",
       "                {\n",
       "                    center: [45.5236, -122.675],\n",
       "                    crs: L.CRS.EPSG3857,\n",
       "                    zoom: 2,\n",
       "                    zoomControl: true,\n",
       "                    preferCanvas: false,\n",
       "                    drawExport: false,\n",
       "                    layersControl: true,\n",
       "                }\n",
       "            );\n",
       "            L.control.scale().addTo(map_f115a7d9be863fa77cc2bd19295c0333);\n",
       "\n",
       "            \n",
       "\n",
       "        \n",
       "    \n",
       "            var tile_layer_2378566ce960f486973cc1cee8b4c0ab = L.tileLayer(\n",
       "                &quot;https://tile.openstreetmap.org/{z}/{x}/{y}.png&quot;,\n",
       "                {&quot;attribution&quot;: &quot;\\u0026copy; \\u003ca href=\\&quot;https://www.openstreetmap.org/copyright\\&quot;\\u003eOpenStreetMap\\u003c/a\\u003e contributors&quot;, &quot;detectRetina&quot;: false, &quot;maxNativeZoom&quot;: 19, &quot;maxZoom&quot;: 24, &quot;minZoom&quot;: 0, &quot;noWrap&quot;: false, &quot;opacity&quot;: 1, &quot;subdomains&quot;: &quot;abc&quot;, &quot;tms&quot;: false}\n",
       "            );\n",
       "        \n",
       "    \n",
       "            tile_layer_2378566ce960f486973cc1cee8b4c0ab.addTo(map_f115a7d9be863fa77cc2bd19295c0333);\n",
       "        \n",
       "    \n",
       "            L.control.fullscreen(\n",
       "                {&quot;forceSeparateButton&quot;: false, &quot;position&quot;: &quot;topleft&quot;, &quot;title&quot;: &quot;Full Screen&quot;, &quot;titleCancel&quot;: &quot;Exit Full Screen&quot;}\n",
       "            ).addTo(map_f115a7d9be863fa77cc2bd19295c0333);\n",
       "        \n",
       "    \n",
       "            var options = {\n",
       "              position: &quot;topleft&quot;,\n",
       "              draw: {},\n",
       "              edit: {},\n",
       "            }\n",
       "            // FeatureGroup is to store editable layers.\n",
       "            var drawnItems_draw_control_b29ebbfa1abfb3ec6cea566353226b0e = new L.featureGroup().addTo(\n",
       "                map_f115a7d9be863fa77cc2bd19295c0333\n",
       "            );\n",
       "            options.edit.featureGroup = drawnItems_draw_control_b29ebbfa1abfb3ec6cea566353226b0e;\n",
       "            var draw_control_b29ebbfa1abfb3ec6cea566353226b0e = new L.Control.Draw(\n",
       "                options\n",
       "            ).addTo( map_f115a7d9be863fa77cc2bd19295c0333 );\n",
       "            map_f115a7d9be863fa77cc2bd19295c0333.on(L.Draw.Event.CREATED, function(e) {\n",
       "                var layer = e.layer,\n",
       "                    type = e.layerType;\n",
       "                var coords = JSON.stringify(layer.toGeoJSON());\n",
       "                layer.on(&#x27;click&#x27;, function() {\n",
       "                    alert(coords);\n",
       "                    console.log(coords);\n",
       "                });\n",
       "                drawnItems_draw_control_b29ebbfa1abfb3ec6cea566353226b0e.addLayer(layer);\n",
       "             });\n",
       "            map_f115a7d9be863fa77cc2bd19295c0333.on(&#x27;draw:created&#x27;, function(e) {\n",
       "                drawnItems_draw_control_b29ebbfa1abfb3ec6cea566353226b0e.addLayer(e.layer);\n",
       "            });\n",
       "            \n",
       "        \n",
       "    \n",
       "            var measure_control_4a822a333f38bc4ea7b67aa62c1ceb10 = new L.Control.Measure(\n",
       "                {&quot;position&quot;: &quot;bottomleft&quot;, &quot;primaryAreaUnit&quot;: &quot;sqmeters&quot;, &quot;primaryLengthUnit&quot;: &quot;meters&quot;, &quot;secondaryAreaUnit&quot;: &quot;acres&quot;, &quot;secondaryLengthUnit&quot;: &quot;miles&quot;});\n",
       "            map_f115a7d9be863fa77cc2bd19295c0333.addControl(measure_control_4a822a333f38bc4ea7b67aa62c1ceb10);\n",
       "\n",
       "            // Workaround for using this plugin with Leaflet&gt;=1.8.0\n",
       "            // https://github.com/ljagis/leaflet-measure/issues/171\n",
       "            L.Control.Measure.include({\n",
       "                _setCaptureMarkerIcon: function () {\n",
       "                    // disable autopan\n",
       "                    this._captureMarker.options.autoPanOnFocus = false;\n",
       "                    // default function\n",
       "                    this._captureMarker.setIcon(\n",
       "                        L.divIcon({\n",
       "                            iconSize: this._map.getSize().multiplyBy(2)\n",
       "                        })\n",
       "                    );\n",
       "                },\n",
       "            });\n",
       "\n",
       "        \n",
       "    \n",
       "\n",
       "            var geocoderOpts_geocoder_d2dbaf87168257e2ae495d8bb623f02d = {&quot;collapsed&quot;: true, &quot;defaultMarkGeocode&quot;: true, &quot;position&quot;: &quot;topleft&quot;, &quot;provider&quot;: &quot;nominatim&quot;, &quot;providerOptions&quot;: {}, &quot;zoom&quot;: 11};\n",
       "\n",
       "            // note: geocoder name should start with lowercase\n",
       "            var geocoderName_geocoder_d2dbaf87168257e2ae495d8bb623f02d = geocoderOpts_geocoder_d2dbaf87168257e2ae495d8bb623f02d[&quot;provider&quot;];\n",
       "\n",
       "            var customGeocoder_geocoder_d2dbaf87168257e2ae495d8bb623f02d = L.Control.Geocoder[ geocoderName_geocoder_d2dbaf87168257e2ae495d8bb623f02d ](\n",
       "                geocoderOpts_geocoder_d2dbaf87168257e2ae495d8bb623f02d[&#x27;providerOptions&#x27;]\n",
       "            );\n",
       "            geocoderOpts_geocoder_d2dbaf87168257e2ae495d8bb623f02d[&quot;geocoder&quot;] = customGeocoder_geocoder_d2dbaf87168257e2ae495d8bb623f02d;\n",
       "\n",
       "            L.Control.geocoder(\n",
       "                geocoderOpts_geocoder_d2dbaf87168257e2ae495d8bb623f02d\n",
       "            ).on(&#x27;markgeocode&#x27;, function(e) {\n",
       "                var zoom = geocoderOpts_geocoder_d2dbaf87168257e2ae495d8bb623f02d[&#x27;zoom&#x27;] || map_f115a7d9be863fa77cc2bd19295c0333.getZoom();\n",
       "                map_f115a7d9be863fa77cc2bd19295c0333.setView(e.geocode.center, zoom);\n",
       "            }).addTo(map_f115a7d9be863fa77cc2bd19295c0333);\n",
       "\n",
       "        \n",
       "    \n",
       "            map_f115a7d9be863fa77cc2bd19295c0333.fitBounds(\n",
       "                [[45.5236, -122.675], [45.5236, -122.675]],\n",
       "                {&quot;maxZoom&quot;: 2}\n",
       "            );\n",
       "        \n",
       "    \n",
       "            var layer_control_1a41fdac14d1e6e67d2415501a3be870_layers = {\n",
       "                base_layers : {\n",
       "                    &quot;openstreetmap&quot; : tile_layer_2378566ce960f486973cc1cee8b4c0ab,\n",
       "                },\n",
       "                overlays :  {\n",
       "                },\n",
       "            };\n",
       "            let layer_control_1a41fdac14d1e6e67d2415501a3be870 = L.control.layers(\n",
       "                layer_control_1a41fdac14d1e6e67d2415501a3be870_layers.base_layers,\n",
       "                layer_control_1a41fdac14d1e6e67d2415501a3be870_layers.overlays,\n",
       "                {&quot;autoZIndex&quot;: true, &quot;collapsed&quot;: true, &quot;position&quot;: &quot;topright&quot;}\n",
       "            ).addTo(map_f115a7d9be863fa77cc2bd19295c0333);\n",
       "\n",
       "        \n",
       "&lt;/script&gt;\n",
       "&lt;/html&gt;\" width=\"100%\" height=\"600\"style=\"border:none !important;\" \"allowfullscreen\" \"webkitallowfullscreen\" \"mozallowfullscreen\"></iframe>"
      ],
      "text/plain": [
       "<leafmap.foliumap.Map at 0x2d315afaba0>"
      ]
     },
     "execution_count": 24,
     "metadata": {},
     "output_type": "execute_result"
    }
   ],
   "source": [
    "m = leafmap.Map(location=(45.5236, -122.6750))\n",
    "m"
   ]
  },
  {
   "cell_type": "code",
   "execution_count": 25,
   "metadata": {},
   "outputs": [],
   "source": [
    "m.save(r\"F:\\Clark_Universiy\\Clark_Teaching\\sample.html\")"
   ]
  },
  {
   "cell_type": "markdown",
   "metadata": {},
   "source": [
    "### MapLibre and Leafmap - 3D Interactive Map\n",
    "\n",
    "[MapLibre](https://maplibre.org/) is a Open-source TypeScript library for publishing maps on your website.  \n",
    "\n",
    "The MapLibre is Javascript and TypeScript based library that use WebGL to render interactive maps from vector tiles in a browser. \n",
    "\n",
    "Dr. Qiusheng Wu integrate MapLibre to leafmap so we can use python to generate the maps. \n",
    "\n",
    "Leafmap, built on top of the [py-maplibregl](https://github.com/eodaGmbH/py-maplibregl) Python package, simplifies the process of creating stunning 3D maps with MapLibre, allowing you to achieve impressive results with just a few lines of code."
   ]
  },
  {
   "cell_type": "markdown",
   "metadata": {},
   "source": [
    "#### Create a API key\n",
    "[MapTiler](https://cloud.maptiler.com/maps/) provide many different vector tile styles that can be used with MapLibre\n",
    "\n",
    "Sign up a account and generate a API Keys in your account\n",
    "- API Keys - \n",
    "\n"
   ]
  },
  {
   "cell_type": "code",
   "execution_count": 28,
   "metadata": {},
   "outputs": [
    {
     "ename": "ModuleNotFoundError",
     "evalue": "No module named 'maplibre'",
     "output_type": "error",
     "traceback": [
      "\u001b[1;31m---------------------------------------------------------------------------\u001b[0m",
      "\u001b[1;31mModuleNotFoundError\u001b[0m                       Traceback (most recent call last)",
      "Cell \u001b[1;32mIn[28], line 2\u001b[0m\n\u001b[0;32m      1\u001b[0m \u001b[38;5;28;01mimport\u001b[39;00m \u001b[38;5;21;01mos\u001b[39;00m\n\u001b[1;32m----> 2\u001b[0m \u001b[38;5;28;01mimport\u001b[39;00m \u001b[38;5;21;01mleafmap\u001b[39;00m\u001b[38;5;21;01m.\u001b[39;00m\u001b[38;5;21;01mmaplibregl\u001b[39;00m \u001b[38;5;28;01mas\u001b[39;00m \u001b[38;5;21;01mleafmap\u001b[39;00m\n",
      "File \u001b[1;32mg:\\Anaconda\\envs\\leaf_map\\Lib\\site-packages\\leafmap\\maplibregl.py:10\u001b[0m\n\u001b[0;32m      8\u001b[0m \u001b[38;5;28;01mimport\u001b[39;00m \u001b[38;5;21;01mipyvuetify\u001b[39;00m \u001b[38;5;28;01mas\u001b[39;00m \u001b[38;5;21;01mv\u001b[39;00m\n\u001b[0;32m      9\u001b[0m \u001b[38;5;28;01mfrom\u001b[39;00m \u001b[38;5;21;01mbox\u001b[39;00m \u001b[38;5;28;01mimport\u001b[39;00m Box\n\u001b[1;32m---> 10\u001b[0m \u001b[38;5;28;01mfrom\u001b[39;00m \u001b[38;5;21;01mmaplibre\u001b[39;00m\u001b[38;5;21;01m.\u001b[39;00m\u001b[38;5;21;01mbasemaps\u001b[39;00m \u001b[38;5;28;01mimport\u001b[39;00m background\n\u001b[0;32m     11\u001b[0m \u001b[38;5;28;01mfrom\u001b[39;00m \u001b[38;5;21;01mmaplibre\u001b[39;00m\u001b[38;5;21;01m.\u001b[39;00m\u001b[38;5;21;01mbasemaps\u001b[39;00m \u001b[38;5;28;01mimport\u001b[39;00m construct_carto_basemap_url\n\u001b[0;32m     12\u001b[0m \u001b[38;5;28;01mfrom\u001b[39;00m \u001b[38;5;21;01mmaplibre\u001b[39;00m\u001b[38;5;21;01m.\u001b[39;00m\u001b[38;5;21;01mipywidget\u001b[39;00m \u001b[38;5;28;01mimport\u001b[39;00m MapWidget\n",
      "\u001b[1;31mModuleNotFoundError\u001b[0m: No module named 'maplibre'"
     ]
    }
   ],
   "source": [
    "import os\n",
    "import leafmap.maplibregl as leafmap"
   ]
  },
  {
   "cell_type": "code",
   "execution_count": null,
   "metadata": {},
   "outputs": [],
   "source": []
  }
 ],
 "metadata": {
  "kernelspec": {
   "display_name": "leaf_map",
   "language": "python",
   "name": "python3"
  },
  "language_info": {
   "codemirror_mode": {
    "name": "ipython",
    "version": 3
   },
   "file_extension": ".py",
   "mimetype": "text/x-python",
   "name": "python",
   "nbconvert_exporter": "python",
   "pygments_lexer": "ipython3",
   "version": "3.12.7"
  }
 },
 "nbformat": 4,
 "nbformat_minor": 2
}
